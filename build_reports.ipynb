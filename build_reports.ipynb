{
 "cells": [
  {
   "cell_type": "markdown",
   "metadata": {},
   "source": [
    "## Build Reports for Contributors from USFD Suggestion Analysis\n",
    "#### Create prototype reports\n",
    "Create contributor-specic reports of suggestions that may be distributed."
   ]
  },
  {
   "cell_type": "code",
   "execution_count": 1,
   "metadata": {},
   "outputs": [],
   "source": [
    "import datetime\n",
    "import os\n",
    "\n",
    "\n",
    "import pandas"
   ]
  },
  {
   "cell_type": "code",
   "execution_count": 2,
   "metadata": {},
   "outputs": [
    {
     "name": "stdout",
     "output_type": "stream",
     "text": [
      "Writing reports/.txt\n",
      "Writing reports/AEU.txt\n",
      "Writing reports/CHI.txt\n",
      "Writing reports/CMALG.txt\n",
      "Writing reports/COO.txt\n",
      "Writing reports/CTU.txt\n",
      "Writing reports/DEU.txt\n",
      "Writing reports/DUL.txt\n",
      "Writing reports/FMU.txt\n",
      "Writing reports/FU.txt\n",
      "Writing reports/GEU.txt\n",
      "Writing reports/HVD.txt\n",
      "Writing reports/IAU.txt\n",
      "Writing reports/IEN.txt\n",
      "Writing reports/INU.txt\n",
      "Writing reports/LOC.txt\n",
      "Writing reports/MCHB.txt\n",
      "Writing reports/MDU.txt\n",
      "Writing reports/MIEM.txt\n",
      "Writing reports/MIU.txt\n",
      "Writing reports/MMET.txt\n",
      "Writing reports/MOU.txt\n",
      "Writing reports/MU.txt\n",
      "Writing reports/NCSU.txt\n",
      "Writing reports/NJP.txt\n",
      "Writing reports/NNC.txt\n",
      "Writing reports/NYP.txt\n",
      "Writing reports/OU.txt\n",
      "Writing reports/PST.txt\n",
      "Writing reports/PU.txt\n",
      "Writing reports/PUR.txt\n",
      "Writing reports/QMM.txt\n",
      "Writing reports/TXCM.txt\n",
      "Writing reports/TXU.txt\n",
      "Writing reports/UC.txt\n",
      "Writing reports/UIU.txt\n",
      "Writing reports/UMN.txt\n",
      "Writing reports/UNC.txt\n",
      "Writing reports/USU.txt\n",
      "Writing reports/UVA.txt\n",
      "Writing reports/WAU.txt\n",
      "Writing reports/WU.txt\n"
     ]
    }
   ],
   "source": [
    "# load data\n",
    "export_df = pandas.read_csv(\"data/htusfd-suggestions.csv\")\n",
    "sorted_export_df = export_df.sort_values(by=[\"contributor_code\", \"contribsys_id\"])\n",
    "\n",
    "if not os.path.exists(\"reports\"):\n",
    "    os.makedirs(\"reports\")\n",
    "    \n",
    "# todo: fix issue with yale missing\n",
    "# iterate through suggestions, print reports to contrib-based files\n",
    "contributor_code = \"\"\n",
    "file = None\n",
    "for index, row in sorted_export_df.iterrows():\n",
    "    if contributor_code != row[\"contributor_code\"]:\n",
    "        print(\"Writing reports/{}.txt\".format(contributor_code))\n",
    "        contributor_code = row[\"contributor_code\"]\n",
    "        if file:\n",
    "            file.close()\n",
    "        file = open(\"reports/{}.txt\".format(contributor_code),\"w+\")\n",
    "    file.write(row[\"contribsys_id\"] + \"\\n\")\n",
    "if file:\n",
    "    file.close()"
   ]
  },
  {
   "cell_type": "code",
   "execution_count": 3,
   "metadata": {},
   "outputs": [
    {
     "name": "stdout",
     "output_type": "stream",
     "text": [
      "Completed notebook (2019-09-03T19:04:50.718650).\n"
     ]
    }
   ],
   "source": [
    "print(\"Completed notebook ({}).\".format(datetime.datetime.utcnow().isoformat()))"
   ]
  },
  {
   "cell_type": "code",
   "execution_count": null,
   "metadata": {},
   "outputs": [],
   "source": []
  }
 ],
 "metadata": {
  "kernelspec": {
   "display_name": "Python 3",
   "language": "python",
   "name": "python3"
  },
  "language_info": {
   "codemirror_mode": {
    "name": "ipython",
    "version": 3
   },
   "file_extension": ".py",
   "mimetype": "text/x-python",
   "name": "python",
   "nbconvert_exporter": "python",
   "pygments_lexer": "ipython3",
   "version": "3.7.4"
  }
 },
 "nbformat": 4,
 "nbformat_minor": 4
}
