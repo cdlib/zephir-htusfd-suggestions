{
 "cells": [
  {
   "cell_type": "markdown",
   "metadata": {},
   "source": [
    "## Build Reports for Contributors from USFD Suggestion Analysis\n",
    "#### Create prototype reports\n",
    "Create contributor-specic reports of suggestions that may be distributed."
   ]
  },
  {
   "cell_type": "code",
   "execution_count": null,
   "metadata": {},
   "outputs": [],
   "source": [
    "import datetime\n",
    "import os\n",
    "\n",
    "\n",
    "import pandas"
   ]
  },
  {
   "cell_type": "code",
   "execution_count": null,
   "metadata": {},
   "outputs": [],
   "source": [
    "# load data\n",
    "export_df = pandas.read_csv(\"data/htusfd-suggestions.csv\")\n",
    "sorted_export_df = export_df.sort_values(by=[\"contributor_code\", \"contribsys_id\"])\n",
    "\n",
    "if not os.path.exists(\"reports\"):\n",
    "    os.makedirs(\"reports\")\n",
    "    \n",
    "# iterate through suggestions, print reports to contrib-based files\n",
    "contributor_code = \"\"\n",
    "file = None\n",
    "for index, row in sorted_export_df.iterrows():\n",
    "    if contributor_code != row[\"contributor_code\"]:\n",
    "        print(\"Writing reports/{}.txt\".format(contributor_code))\n",
    "        contributor_code = row[\"contributor_code\"]\n",
    "        if file:\n",
    "            file.close()\n",
    "        file = open(\"reports/{}.txt\".format(contributor_code),\"w+\")\n",
    "    file.write(row[\"contribsys_id\"] + \"\\n\")"
   ]
  },
  {
   "cell_type": "code",
   "execution_count": null,
   "metadata": {},
   "outputs": [],
   "source": [
    "print(\"Completed notebook ({}).\".format(datetime.datetime.utcnow().isoformat()))"
   ]
  },
  {
   "cell_type": "code",
   "execution_count": null,
   "metadata": {},
   "outputs": [],
   "source": []
  }
 ],
 "metadata": {
  "kernelspec": {
   "display_name": "Python 3",
   "language": "python",
   "name": "python3"
  },
  "language_info": {
   "codemirror_mode": {
    "name": "ipython",
    "version": 3
   },
   "file_extension": ".py",
   "mimetype": "text/x-python",
   "name": "python",
   "nbconvert_exporter": "python",
   "pygments_lexer": "ipython3",
   "version": "3.7.4"
  }
 },
 "nbformat": 4,
 "nbformat_minor": 4
}
