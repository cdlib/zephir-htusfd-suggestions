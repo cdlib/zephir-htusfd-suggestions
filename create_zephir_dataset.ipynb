{
 "cells": [
  {
   "cell_type": "markdown",
   "metadata": {},
   "source": [
    "# Create Zephir Dataset for US Fed Doc analysis\n",
    "\n",
    "**Zephir Notebook**\n",
    "**This notebook can only be run with database credentials. It is meant for internal use by the Zephir team, and published to document the process.**\n",
    "\n",
    "The following dataset was built for overlap analysis between Zephir and the HathiTrust US Federal Documents Registry. The reasons for the analysis are detailed in the [analysis notebook](htusfd_suggestion_analysis).\n",
    "\n",
    "This dataset lists all HathiTrust volumes from the Zephir database that: \n",
    "  1. Have been ingested into the repository.\n",
    "  2. Have one or more oclc numbers. \n",
    "  \n",
    "Columns\n",
    "* **zdb_row** (zephir_records.autoid): Internal row in the Zephir database. 1-1 relationship with HTID.\n",
    "* **oclc** (zephir_identifiers.identifier/type=oclc): OCLC number associated with a HTID.\n",
    "* **cid** (zephir_records.cid): Cluster identifier associatied with the HTID. 1-N relationship with HTID.\n",
    "* **contributor_code** (zephir_records.source): The code associated with a contributor.\n",
    "* **collection_code** (zephir_records.source_collection): The code associated with a collection. 1-N relationship with contributor code, but often a repeat of the contributor_code.\n",
    "* **contribsys_id** (zephir_records.contribsys_id): The bibiliographic record identifier in a contributors metadata system (e.g. ILS). 1-N relationship with HTIDs for multiple holdings.\n",
    "* **htid** (zephir_records.id): Hathitrust unique identifier for a volume.\n",
    "* **usfd_status** (zephir_records.var_usfeddoc): A boolean value indicating if the associated metadata 008 field contains designations for a federal document printed in the US.\n",
    "\n",
    "Notes\n",
    "* There is a row per OCLC-volume match. This means there may be multiple rows for the same volume if the volume has multiple OCLC.\n",
    "* The dataset is ordered by by the zephir_records autoid field for optimization.\n",
    "* Leading zeros were trimmed from OCLC numbers to match normalization in the US Fed Docs registry\n",
    "* The 008 desiginations are a proxy for US Federal Documents, as sometimes the US government publshes documents outside of the US and other countries may puplish documents in the US.\n",
    "* Field names were exported as the first row header. This is important for splitting and importing into pandas later."
   ]
  },
  {
   "cell_type": "markdown",
   "metadata": {},
   "source": [
    "### Create export from database"
   ]
  },
  {
   "cell_type": "markdown",
   "metadata": {},
   "source": [
    "#### Imports"
   ]
  },
  {
   "cell_type": "code",
   "execution_count": null,
   "metadata": {},
   "outputs": [],
   "source": [
    "import datetime\n",
    "import collections\n",
    "import getpass\n",
    "import json\n",
    "import os\n",
    "\n",
    "\n",
    "\n",
    "import pandas\n",
    "import pymysql"
   ]
  },
  {
   "cell_type": "markdown",
   "metadata": {},
   "source": [
    "#### Define SQL Query"
   ]
  },
  {
   "cell_type": "code",
   "execution_count": null,
   "metadata": {},
   "outputs": [],
   "source": [
    "select_stmt = \"select zr.autoid as zdb_row, trim(leading '0' from zi.identifier) as oclc, zr.cid, source as contributor_code, source_collection as collection_code, contribsys_id, zr.id as htid, zr.var_usfeddoc as usfd_status from zephir_identifiers as zi inner join zephir_identifier_records as zir on zi.autoid = zir.identifier_autoid inner join zephir_records as zr on zir.record_autoid = zr.autoid where zi.type = 'oclc' and zr.attr_ingest_date is not null order by zr.autoid ASC\""
   ]
  },
  {
   "cell_type": "markdown",
   "metadata": {},
   "source": [
    "#### Get Connection & Credentials\n",
    "Enter database connection information. Everything is treated like a password to avoid accidental leaking into jupyter notebook."
   ]
  },
  {
   "cell_type": "markdown",
   "metadata": {},
   "source": [
    "##### Enter Host"
   ]
  },
  {
   "cell_type": "code",
   "execution_count": null,
   "metadata": {},
   "outputs": [],
   "source": [
    "host = getpass.getpass()"
   ]
  },
  {
   "cell_type": "markdown",
   "metadata": {},
   "source": [
    "##### Enter Username"
   ]
  },
  {
   "cell_type": "code",
   "execution_count": null,
   "metadata": {},
   "outputs": [],
   "source": [
    "user = getpass.getpass()"
   ]
  },
  {
   "cell_type": "markdown",
   "metadata": {},
   "source": [
    "##### Enter Password"
   ]
  },
  {
   "cell_type": "code",
   "execution_count": null,
   "metadata": {},
   "outputs": [],
   "source": [
    "password = getpass.getpass()"
   ]
  },
  {
   "cell_type": "code",
   "execution_count": null,
   "metadata": {},
   "outputs": [],
   "source": [
    "# create connection\n",
    "conn = pymysql.connect(\n",
    "    host=host,\n",
    "    port=int(3306),\n",
    "    user=user,\n",
    "    passwd=password,\n",
    "    db=\"htmm\")"
   ]
  },
  {
   "cell_type": "markdown",
   "metadata": {},
   "source": [
    "#### Running Querying \n",
    "This is going to take awhile."
   ]
  },
  {
   "cell_type": "code",
   "execution_count": null,
   "metadata": {},
   "outputs": [],
   "source": [
    "query_datetime = datetime.datetime.utcnow().isoformat()\n",
    "df = pandas.read_sql_query(select_stmt,\n",
    "    conn)\n",
    "df = df.sort_values(by=['zdb_row'])"
   ]
  },
  {
   "cell_type": "markdown",
   "metadata": {},
   "source": [
    "#### Data munge to the right column/datatype"
   ]
  },
  {
   "cell_type": "code",
   "execution_count": null,
   "metadata": {},
   "outputs": [],
   "source": [
    "# cast usfd as bool\n",
    "df['usfd_status'] = df['usfd_status'].astype('bool')"
   ]
  },
  {
   "cell_type": "markdown",
   "metadata": {},
   "source": [
    "#### Write datset to disk as csv file\n",
    "This will also take awhile."
   ]
  },
  {
   "cell_type": "code",
   "execution_count": null,
   "metadata": {},
   "outputs": [],
   "source": [
    "dataset_name = \"zephir-oclc-feddocs-dataset\"\n",
    "dataset_file = \"data/{}.csv\".format(dataset_name)\n",
    "\n",
    "# csv settings\n",
    "header = True\n",
    "encoding = \"utf8\"\n",
    "delimiter = \",\"\n",
    "\n",
    "if not os.path.exists(\"data\"):\n",
    "    os.makedirs(\"data\")\n",
    "    \n",
    "# write to disk\n",
    "df.to_csv(dataset_file, index=False, header=header, encoding=encoding, sep=delimiter)"
   ]
  },
  {
   "cell_type": "markdown",
   "metadata": {},
   "source": [
    "#### Write manfifest to disk"
   ]
  },
  {
   "cell_type": "code",
   "execution_count": null,
   "metadata": {},
   "outputs": [],
   "source": [
    "manifest = {}\n",
    "manifest[\"name\"] = dataset_name\n",
    "manifest[\"description\"] = \"Dataset of all Zephir OCLC entries and their USFD status. Duplicates in cases of volummes with more than one OCLC.\"\n",
    "manifest[\"datetime\"] = str(datetime.datetime.utcnow().isoformat())\n",
    "\n",
    "# derive schema from dataframe\n",
    "schema = collections.OrderedDict()\n",
    "for column in df.columns.array:\n",
    "    schema[str(column)]= str(df.dtypes[column])\n",
    "manifest[\"schema\"] = schema\n",
    "\n",
    "# note format to manifest\n",
    "manifest[\"format\"] = {\n",
    " \"type\": \"delimited\",\n",
    " \"extension\": \"csv\",\n",
    " \"delimiter\": delimiter,\n",
    " \"header\": header,\n",
    " \"encoding\": encoding,\n",
    " }\n",
    "\n",
    "manifest[\"data-origins\"] = [{\n",
    "    \"origin\": \"HTMM production database (Zephir)\",\n",
    "    \"datetime\": str(query_datetime)\n",
    "}]\n",
    "manifest_file = \"data/{}.manifest.json\".format(manifest[\"name\"])\n",
    "with open(manifest_file, 'w') as outfile:\n",
    "    json.dump(manifest, outfile, indent=4)"
   ]
  },
  {
   "cell_type": "markdown",
   "metadata": {},
   "source": [
    "#### Finishing up!"
   ]
  },
  {
   "cell_type": "code",
   "execution_count": null,
   "metadata": {},
   "outputs": [],
   "source": [
    "print(\"Completed notebook ({}).\".format(datetime.datetime.utcnow().isoformat()))\n",
    "print(\"Output created:\")\n",
    "print(dataset_file)\n",
    "print(manifest_file)"
   ]
  },
  {
   "cell_type": "code",
   "execution_count": null,
   "metadata": {},
   "outputs": [],
   "source": []
  }
 ],
 "metadata": {
  "kernelspec": {
   "display_name": "Python 3",
   "language": "python",
   "name": "python3"
  },
  "language_info": {
   "codemirror_mode": {
    "name": "ipython",
    "version": 3
   },
   "file_extension": ".py",
   "mimetype": "text/x-python",
   "name": "python",
   "nbconvert_exporter": "python",
   "pygments_lexer": "ipython3",
   "version": "3.7.4"
  }
 },
 "nbformat": 4,
 "nbformat_minor": 4
}
