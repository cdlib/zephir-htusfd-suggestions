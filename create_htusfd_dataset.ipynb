{
 "cells": [
  {
   "cell_type": "markdown",
   "metadata": {},
   "source": [
    "## US Fed Docs Registry (OCLC numbers)\n",
    "\n",
    "The US Fed Docs Registry: https://github.com/HTGovdocs/feddoc_oclc_nums"
   ]
  },
  {
   "cell_type": "code",
   "execution_count": null,
   "metadata": {},
   "outputs": [],
   "source": [
    "import datetime\n",
    "import json\n",
    "import os\n",
    "import shutil\n",
    "\n",
    "\n",
    "import git"
   ]
  },
  {
   "cell_type": "markdown",
   "metadata": {},
   "source": [
    "### Clone data from Github repository (frequently updated)"
   ]
  },
  {
   "cell_type": "code",
   "execution_count": null,
   "metadata": {},
   "outputs": [],
   "source": [
    "# clone data fresh, remove existing repository if needed.\n",
    "if os.path.exists(\"feddoc_oclc_nums\"):\n",
    "    shutil.rmtree(\"feddoc_oclc_nums\")\n",
    "print(\"Cloning data from Github...\")\n",
    "repo = git.Repo.clone_from(\"https://github.com/HTGovdocs/feddoc_oclc_nums\", \"feddoc_oclc_nums\")"
   ]
  },
  {
   "cell_type": "markdown",
   "metadata": {},
   "source": [
    "### Copy file to data directory with a manifest"
   ]
  },
  {
   "cell_type": "code",
   "execution_count": null,
   "metadata": {},
   "outputs": [],
   "source": [
    "dataset_name = \"feddoc_oclc_nums\"\n",
    "dataset_file = \"data/{}.txt\".format(dataset_name)\n",
    "\n",
    "if not os.path.exists(\"data\"):\n",
    "    os.makedirs(\"data\")\n",
    "\n",
    "# copy file to data folder\n",
    "shutil.copyfile(\"feddoc_oclc_nums/feddoc_oclc_nums.txt\", dataset_file)"
   ]
  },
  {
   "cell_type": "code",
   "execution_count": null,
   "metadata": {},
   "outputs": [],
   "source": [
    "# create manifest file\n",
    "manifest = {}\n",
    "manifest[\"name\"] = \"feddoc_oclc_nums\"\n",
    "manifest[\"description\"] = \"A daily updated list of OCLC numbers determined to be Federal Documents.\"\n",
    "\n",
    "# use the latest commit as a proxy for datetime\n",
    "commit = repo.head.commit\n",
    "file_datetime_proxy = datetime.datetime.utcfromtimestamp(commit.committed_date).isoformat()\n",
    "manifest[\"datetime\"] = str(file_datetime_proxy)\n",
    "\n",
    "manifest[\"schema\"] = {\n",
    "    \"oclc\": \"object\"\n",
    "}\n",
    "\n",
    "manifest[\"format\"] = {\n",
    "    \"type\": \"text\",\n",
    "    \"extension\": \"txt\",\n",
    "    \"header\": False,\n",
    "    }\n",
    "\n",
    "manifest[\"data-origins\"] = [{\n",
    "    \"origin\": \"https://github.com/HTGovdocs/feddoc_oclc_nums\",\n",
    "    \"datetime\": str(file_datetime_proxy)\n",
    "}]\n",
    "\n",
    "# create manifest to accompany data\n",
    "manifest_file = \"data/{}.manifest.json\".format(manifest[\"name\"])\n",
    "with open(manifest_file, 'w') as outfile:\n",
    "    json.dump(manifest, outfile, indent=4, sort_keys=True)"
   ]
  },
  {
   "cell_type": "markdown",
   "metadata": {},
   "source": [
    "### Finishing up!"
   ]
  },
  {
   "cell_type": "code",
   "execution_count": null,
   "metadata": {},
   "outputs": [],
   "source": [
    "print(\"Completed notebook ({}).\".format(datetime.datetime.utcnow().isoformat()))\n",
    "print(\"Output created:\")\n",
    "print(dataset_file)\n",
    "print(manifest_file)"
   ]
  },
  {
   "cell_type": "code",
   "execution_count": null,
   "metadata": {},
   "outputs": [],
   "source": []
  }
 ],
 "metadata": {
  "kernelspec": {
   "display_name": "Python 3",
   "language": "python",
   "name": "python3"
  },
  "language_info": {
   "codemirror_mode": {
    "name": "ipython",
    "version": 3
   },
   "file_extension": ".py",
   "mimetype": "text/x-python",
   "name": "python",
   "nbconvert_exporter": "python",
   "pygments_lexer": "ipython3",
   "version": "3.7.4"
  }
 },
 "nbformat": 4,
 "nbformat_minor": 4
}
