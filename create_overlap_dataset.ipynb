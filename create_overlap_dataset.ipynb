{
 "cells": [
  {
   "cell_type": "markdown",
   "metadata": {},
   "source": [
    "## Create HathiTrust Zephir and US Federal Document Overlap Datset"
   ]
  },
  {
   "cell_type": "markdown",
   "metadata": {},
   "source": [
    "## Data\n",
    "\n",
    "**Zephir Notebook**\n",
    "**This notebook requires the zephir-oclc-feddocs-dataset to run. This dataset has not been included in the repository for size reasons. There are two options if you do not have the dataset**\n",
    "  * Contact the Zephir team for the latest 'zephir-oclc-feddocs-dataset' dataset.\n",
    "  * Skip this notebook and use the included 'zephir-htusfd-overlap' dataset created by this notebook in futher analysis.\n"
   ]
  },
  {
   "cell_type": "markdown",
   "metadata": {},
   "source": [
    "### Imports"
   ]
  },
  {
   "cell_type": "code",
   "execution_count": null,
   "metadata": {},
   "outputs": [],
   "source": [
    "import datetime\n",
    "import collections\n",
    "import gzip\n",
    "import json\n",
    "import os\n",
    "import shutil\n",
    "\n",
    "\n",
    "import pandas"
   ]
  },
  {
   "cell_type": "markdown",
   "metadata": {},
   "source": [
    "### DatasetLoading"
   ]
  },
  {
   "cell_type": "markdown",
   "metadata": {},
   "source": [
    "#### US Fed Docs Registry (OCLC numbers)\n",
    "\n",
    "The US Fed Docs Registry: https://github.com/HTGovdocs/feddoc_oclc_nums"
   ]
  },
  {
   "cell_type": "code",
   "execution_count": null,
   "metadata": {},
   "outputs": [],
   "source": [
    "with open('data/feddoc_oclc_nums.manifest.json') as json_file:\n",
    "    usfd_manifest = json.load(json_file)\n",
    "    \n",
    "print(\"US Fed Doc Registry data was commited at {}\".format(usfd_manifest[\"datetime\"]))\n",
    "\n",
    "usfeddoc_registry_df = pandas.read_csv(\"data/feddoc_oclc_nums.txt\",\n",
    "    names=[\"oclc\"],\n",
    "    dtype=usfd_manifest[\"schema\"],\n",
    "    header = 0)"
   ]
  },
  {
   "cell_type": "markdown",
   "metadata": {},
   "source": [
    "#### Zephir Dataset (Repository-ingested only)\n",
    "This file is an export of Zephir data from the htmm database, and created by [jupyter notebook](http://localhost:8888/lab/tree/create_zephir_dataset.ipynb). The original file is not included in version control for size reasons.\n"
   ]
  },
  {
   "cell_type": "code",
   "execution_count": 3,
   "metadata": {},
   "outputs": [
    {
     "name": "stdout",
     "output_type": "stream",
     "text": [
      "Zephir data was created 2019-08-16T22:41:27.671011\n"
     ]
    }
   ],
   "source": [
    "if not os.path.exists(\"data/zephir-oclc-feddocs-dataset.csv\"):\n",
    "    print(\"Check for dataset on Google Drive. It was too large for Github.\")\n",
    "    raise Exception(\"Missing dataset! See output for details.\")\n",
    "    \n",
    "with open('data/zephir-oclc-feddocs-dataset.manifest.json') as json_file:\n",
    "    zephir_manifest = json.load(json_file)\n",
    "    \n",
    "print(\"Zephir data was created {}\".format(zephir_manifest[\"datetime\"]))\n",
    "\n",
    "zephir_df = pandas.read_csv(\"data/zephir-oclc-feddocs-dataset.csv\", dtype=zephir_manifest[\"schema\"])"
   ]
  },
  {
   "cell_type": "markdown",
   "metadata": {},
   "source": [
    "## Create overlap dataset"
   ]
  },
  {
   "cell_type": "markdown",
   "metadata": {},
   "source": [
    "### How many volumes in HathiTrust have overlapping OCLCs in the US Fed Docs Registry?"
   ]
  },
  {
   "cell_type": "code",
   "execution_count": 4,
   "metadata": {},
   "outputs": [
    {
     "name": "stdout",
     "output_type": "stream",
     "text": [
      "There are 1224577 volumes w/ OCLC numbers matched in the registry\n"
     ]
    }
   ],
   "source": [
    "# get overlap\n",
    "rows_with_matching_oclc = zephir_df[\"oclc\"].isin(usfeddoc_registry_df[\"oclc\"])\n",
    "usfd_overlap_df = (zephir_df[rows_with_matching_oclc])\n",
    "\n",
    "# only count unique volumes, some may have multiple oclcs and matches\n",
    "volumes_matched = usfd_overlap_df.htid.unique()\n",
    "print(\"There are {} volumes w/ OCLC numbers matched in the registry\".format(len(volumes_matched)))"
   ]
  },
  {
   "cell_type": "markdown",
   "metadata": {},
   "source": [
    "#### Write dataset to overlap, no filtering or deduping\n",
    "This data is raw overlap. It includes matches (including duplicate voluemes) that may or may not be indicated as US Federal Documents in their MARC records (usfd_status)."
   ]
  },
  {
   "cell_type": "code",
   "execution_count": 5,
   "metadata": {},
   "outputs": [],
   "source": [
    "export_df = usfd_overlap_df.drop(columns=\"zdb_row\").sort_values(by=[\"contributor_code\", \"contribsys_id\"])\n",
    "# save the dataset\n",
    "dataset_name = \"zephir-htusfd-overlap\"\n",
    "dataset_file =\"data/{}.csv\".format(dataset_name)\n",
    "export_df.to_csv(dataset_file, header=True, index=False)\n",
    "\n",
    "# gzip large file\n",
    "with open(dataset_file, \"rb\") as f_in:\n",
    "    with gzip.open(\"{}.gz\".format(dataset_file), 'wb') as f_out:\n",
    "        shutil.copyfileobj(f_in, f_out)"
   ]
  },
  {
   "cell_type": "markdown",
   "metadata": {},
   "source": [
    "#### Create manifest"
   ]
  },
  {
   "cell_type": "code",
   "execution_count": 6,
   "metadata": {},
   "outputs": [],
   "source": [
    "manifest = {}\n",
    "manifest[\"name\"] = dataset_name\n",
    "manifest[\"description\"] = \"Dataset representing the OCLC overlap between Zephir OCLCS and the HT US Fed Docs OCLCS\"\n",
    "manifest[\"datetime\"] = str(datetime.datetime.utcfromtimestamp(os.path.getmtime(\"data/{}.csv\".format(manifest[\"name\"]))).isoformat())\n",
    "\n",
    "# derive schema from dataframe\n",
    "schema = collections.OrderedDict()\n",
    "for column in export_df.columns.array:\n",
    "    schema[str(column)]= str(export_df.dtypes[column])\n",
    "manifest[\"schema\"] = schema\n",
    "\n",
    "# format\n",
    "manifest[\"format\"] = {\n",
    "        \"delimiter\": \",\",\n",
    "        \"encoding\": \"utf8\",\n",
    "        \"extension\": \"csv\",\n",
    "        \"header\": True,\n",
    "        \"type\": \"delimited\"\n",
    "    }\n",
    "        \n",
    "# note the origins\n",
    "manifest[\"data-origins\"] = [\n",
    "    {\n",
    "    \"origin\": \"zephir-oclc-feddocs-dataset.csv\",\n",
    "    \"datetime\": str(zephir_manifest[\"datetime\"])},\n",
    "    {\"origin\": \"feddoc_oclc_nums.txt\",\n",
    "    \"datetime\": str(usfd_manifest[\"datetime\"])\n",
    "    }\n",
    "]\n",
    "\n",
    "# save the manifest\n",
    "manifest_file = \"data/{}.manifest.json\".format(dataset_name)\n",
    "with open(manifest_file, 'w') as outfile:\n",
    "    json.dump(manifest, outfile, indent=4)"
   ]
  },
  {
   "cell_type": "markdown",
   "metadata": {},
   "source": [
    "#### Finishing up!"
   ]
  },
  {
   "cell_type": "code",
   "execution_count": 7,
   "metadata": {},
   "outputs": [
    {
     "name": "stdout",
     "output_type": "stream",
     "text": [
      "Completed notebook (2019-08-16T22:55:02.420918).\n",
      "Output created:\n",
      "data/zephir-htusfd-overlap.csv\n",
      "data/zephir-htusfd-overlap.manifest.json\n"
     ]
    }
   ],
   "source": [
    "print(\"Completed notebook ({}).\".format(datetime.datetime.utcnow().isoformat()))\n",
    "print(\"Output created:\")\n",
    "print(dataset_file)\n",
    "print(manifest_file)"
   ]
  }
 ],
 "metadata": {
  "kernelspec": {
   "display_name": "Python 3",
   "language": "python",
   "name": "python3"
  },
  "language_info": {
   "codemirror_mode": {
    "name": "ipython",
    "version": 3
   },
   "file_extension": ".py",
   "mimetype": "text/x-python",
   "name": "python",
   "nbconvert_exporter": "python",
   "pygments_lexer": "ipython3",
   "version": "3.7.4"
  }
 },
 "nbformat": 4,
 "nbformat_minor": 4
}
